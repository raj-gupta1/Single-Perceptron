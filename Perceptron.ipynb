{
  "nbformat": 4,
  "nbformat_minor": 0,
  "metadata": {
    "colab": {
      "name": "Perceptron.ipynb",
      "provenance": [],
      "collapsed_sections": [],
      "include_colab_link": true
    },
    "kernelspec": {
      "name": "python3",
      "display_name": "Python 3"
    },
    "language_info": {
      "name": "python"
    }
  },
  "cells": [
    {
      "cell_type": "markdown",
      "metadata": {
        "id": "view-in-github",
        "colab_type": "text"
      },
      "source": [
        "<a href=\"https://colab.research.google.com/github/raj-gupta1/Single-Perceptron-/blob/main/Perceptron.ipynb\" target=\"_parent\"><img src=\"https://colab.research.google.com/assets/colab-badge.svg\" alt=\"Open In Colab\"/></a>"
      ]
    },
    {
      "cell_type": "code",
      "metadata": {
        "id": "nCGtgkdW0Gx8"
      },
      "source": [
        "ROOT = \"/home/Perceptron.ipynb\""
      ],
      "execution_count": 58,
      "outputs": []
    },
    {
      "cell_type": "code",
      "metadata": {
        "id": "wp3ycmIZ0G9w",
        "colab": {
          "base_uri": "https://localhost:8080/",
          "height": 35
        },
        "outputId": "8ada60af-e4e4-42b5-eab1-34ca478e7220"
      },
      "source": [
        "import os\n",
        "os.chdir(ROOT)\n",
        "os.getcwd()"
      ],
      "execution_count": 59,
      "outputs": [
        {
          "output_type": "execute_result",
          "data": {
            "application/vnd.google.colaboratory.intrinsic+json": {
              "type": "string"
            },
            "text/plain": [
              "'/home/Perceptron.ipynb'"
            ]
          },
          "metadata": {
            "tags": []
          },
          "execution_count": 59
        }
      ]
    },
    {
      "cell_type": "code",
      "metadata": {
        "id": "wOZLgzj60HGi"
      },
      "source": [
        "import numpy as np\n",
        "import pandas as pd\n",
        "import matplotlib.pyplot as plt\n",
        "import joblib\n",
        "plt.style.use(\"fivethirtyeight\")"
      ],
      "execution_count": 60,
      "outputs": []
    },
    {
      "cell_type": "code",
      "metadata": {
        "id": "dSqqDkwNb2i7"
      },
      "source": [
        "class Perceptron:\n",
        "  def __init__(self, eta, epochs, activationFunction):\n",
        "    self.weights = np.random.randn(3) * 1e-4\n",
        "    print(f\"self.weights: {self.weights}\")\n",
        "    self.eta = eta\n",
        "    self.epochs = epochs\n",
        "    self.activationFunction = activationFunction\n",
        "\n",
        "  def fit(self, X, y):\n",
        "    self.X = X\n",
        "    self.y = y\n",
        "    X_with_bias = np.c_[self.X, -np.ones((len(self.X), 1))] # concactination\n",
        "    print(f\"X_with_bias: \\n{X_with_bias}\")\n",
        "    for epoch in range(self.epochs):\n",
        "      print(f\"for epoch: {epoch}\")\n",
        "      y_hat = self.activationFunction(X_with_bias, self.weights)\n",
        "      print(f\"predicted value: \\n{y_hat}\")\n",
        "      error = self.y - y_hat\n",
        "      print(f\"error: \\n{error}\")\n",
        "      self.weights = self.weights + self.eta * np.dot(X_with_bias.T, error)\n",
        "      print(f\"updated weights: \\n{self.weights}\")\n",
        "      print(\"#############\\n\")\n",
        "\n",
        "  def predict(self, X):\n",
        "    X_with_bias = np.c_[X, -np.ones((len(self.X), 1))]\n",
        "    return self.activationFunction(X_with_bias, self.weights)\n"
      ],
      "execution_count": 61,
      "outputs": []
    },
    {
      "cell_type": "code",
      "metadata": {
        "id": "hYrAoAY00HP8"
      },
      "source": [
        "activationFunction = lambda inputs,weights: np.where(np.dot(inputs,weights)>0 ,1,0)"
      ],
      "execution_count": 62,
      "outputs": []
    },
    {
      "cell_type": "markdown",
      "metadata": {
        "id": "onic9MECF3i8"
      },
      "source": [
        "#AND"
      ]
    },
    {
      "cell_type": "code",
      "metadata": {
        "id": "KpYqgajh0HWI",
        "colab": {
          "base_uri": "https://localhost:8080/",
          "height": 166
        },
        "outputId": "5a2d5dc4-e169-4969-f10c-9455fc214637"
      },
      "source": [
        "data = {\"x1\":[0,0,1,1], \"x2\":[0,1,0,1], \"y\":[0,0,0,1]}\n",
        "AND = pd.DataFrame(data)\n",
        "AND"
      ],
      "execution_count": 63,
      "outputs": [
        {
          "output_type": "execute_result",
          "data": {
            "text/html": [
              "<div>\n",
              "<style scoped>\n",
              "    .dataframe tbody tr th:only-of-type {\n",
              "        vertical-align: middle;\n",
              "    }\n",
              "\n",
              "    .dataframe tbody tr th {\n",
              "        vertical-align: top;\n",
              "    }\n",
              "\n",
              "    .dataframe thead th {\n",
              "        text-align: right;\n",
              "    }\n",
              "</style>\n",
              "<table border=\"1\" class=\"dataframe\">\n",
              "  <thead>\n",
              "    <tr style=\"text-align: right;\">\n",
              "      <th></th>\n",
              "      <th>x1</th>\n",
              "      <th>x2</th>\n",
              "      <th>y</th>\n",
              "    </tr>\n",
              "  </thead>\n",
              "  <tbody>\n",
              "    <tr>\n",
              "      <th>0</th>\n",
              "      <td>0</td>\n",
              "      <td>0</td>\n",
              "      <td>0</td>\n",
              "    </tr>\n",
              "    <tr>\n",
              "      <th>1</th>\n",
              "      <td>0</td>\n",
              "      <td>1</td>\n",
              "      <td>0</td>\n",
              "    </tr>\n",
              "    <tr>\n",
              "      <th>2</th>\n",
              "      <td>1</td>\n",
              "      <td>0</td>\n",
              "      <td>0</td>\n",
              "    </tr>\n",
              "    <tr>\n",
              "      <th>3</th>\n",
              "      <td>1</td>\n",
              "      <td>1</td>\n",
              "      <td>1</td>\n",
              "    </tr>\n",
              "  </tbody>\n",
              "</table>\n",
              "</div>"
            ],
            "text/plain": [
              "   x1  x2  y\n",
              "0   0   0  0\n",
              "1   0   1  0\n",
              "2   1   0  0\n",
              "3   1   1  1"
            ]
          },
          "metadata": {
            "tags": []
          },
          "execution_count": 63
        }
      ]
    },
    {
      "cell_type": "code",
      "metadata": {
        "id": "_8SwPQGR0HZL",
        "colab": {
          "base_uri": "https://localhost:8080/",
          "height": 166
        },
        "outputId": "98bd00ee-8771-4a8f-beee-1177a2cae34e"
      },
      "source": [
        "X = AND.drop(\"y\",axis=1)\n",
        "X"
      ],
      "execution_count": 64,
      "outputs": [
        {
          "output_type": "execute_result",
          "data": {
            "text/html": [
              "<div>\n",
              "<style scoped>\n",
              "    .dataframe tbody tr th:only-of-type {\n",
              "        vertical-align: middle;\n",
              "    }\n",
              "\n",
              "    .dataframe tbody tr th {\n",
              "        vertical-align: top;\n",
              "    }\n",
              "\n",
              "    .dataframe thead th {\n",
              "        text-align: right;\n",
              "    }\n",
              "</style>\n",
              "<table border=\"1\" class=\"dataframe\">\n",
              "  <thead>\n",
              "    <tr style=\"text-align: right;\">\n",
              "      <th></th>\n",
              "      <th>x1</th>\n",
              "      <th>x2</th>\n",
              "    </tr>\n",
              "  </thead>\n",
              "  <tbody>\n",
              "    <tr>\n",
              "      <th>0</th>\n",
              "      <td>0</td>\n",
              "      <td>0</td>\n",
              "    </tr>\n",
              "    <tr>\n",
              "      <th>1</th>\n",
              "      <td>0</td>\n",
              "      <td>1</td>\n",
              "    </tr>\n",
              "    <tr>\n",
              "      <th>2</th>\n",
              "      <td>1</td>\n",
              "      <td>0</td>\n",
              "    </tr>\n",
              "    <tr>\n",
              "      <th>3</th>\n",
              "      <td>1</td>\n",
              "      <td>1</td>\n",
              "    </tr>\n",
              "  </tbody>\n",
              "</table>\n",
              "</div>"
            ],
            "text/plain": [
              "   x1  x2\n",
              "0   0   0\n",
              "1   0   1\n",
              "2   1   0\n",
              "3   1   1"
            ]
          },
          "metadata": {
            "tags": []
          },
          "execution_count": 64
        }
      ]
    },
    {
      "cell_type": "code",
      "metadata": {
        "id": "3O5PYBDQ0Hbx",
        "colab": {
          "base_uri": "https://localhost:8080/",
          "height": 166
        },
        "outputId": "ccd37bf8-e068-44b0-cd75-a8afd0aa7796"
      },
      "source": [
        "y = AND[\"y\"]\n",
        "y.to_frame()"
      ],
      "execution_count": 65,
      "outputs": [
        {
          "output_type": "execute_result",
          "data": {
            "text/html": [
              "<div>\n",
              "<style scoped>\n",
              "    .dataframe tbody tr th:only-of-type {\n",
              "        vertical-align: middle;\n",
              "    }\n",
              "\n",
              "    .dataframe tbody tr th {\n",
              "        vertical-align: top;\n",
              "    }\n",
              "\n",
              "    .dataframe thead th {\n",
              "        text-align: right;\n",
              "    }\n",
              "</style>\n",
              "<table border=\"1\" class=\"dataframe\">\n",
              "  <thead>\n",
              "    <tr style=\"text-align: right;\">\n",
              "      <th></th>\n",
              "      <th>y</th>\n",
              "    </tr>\n",
              "  </thead>\n",
              "  <tbody>\n",
              "    <tr>\n",
              "      <th>0</th>\n",
              "      <td>0</td>\n",
              "    </tr>\n",
              "    <tr>\n",
              "      <th>1</th>\n",
              "      <td>0</td>\n",
              "    </tr>\n",
              "    <tr>\n",
              "      <th>2</th>\n",
              "      <td>0</td>\n",
              "    </tr>\n",
              "    <tr>\n",
              "      <th>3</th>\n",
              "      <td>1</td>\n",
              "    </tr>\n",
              "  </tbody>\n",
              "</table>\n",
              "</div>"
            ],
            "text/plain": [
              "   y\n",
              "0  0\n",
              "1  0\n",
              "2  0\n",
              "3  1"
            ]
          },
          "metadata": {
            "tags": []
          },
          "execution_count": 65
        }
      ]
    },
    {
      "cell_type": "code",
      "metadata": {
        "id": "maeM7aR_HAjx",
        "colab": {
          "base_uri": "https://localhost:8080/"
        },
        "outputId": "9ea3d5da-73b9-46c8-96ee-7e3c1c9866df"
      },
      "source": [
        "model = Perceptron(eta=0.6, epochs=10, activationFunction=activationFunction)"
      ],
      "execution_count": 66,
      "outputs": [
        {
          "output_type": "stream",
          "text": [
            "self.weights: [-8.90401451e-05 -9.42269094e-05  2.15138018e-05]\n"
          ],
          "name": "stdout"
        }
      ]
    },
    {
      "cell_type": "code",
      "metadata": {
        "id": "iAI-SAHFIJ53",
        "colab": {
          "base_uri": "https://localhost:8080/"
        },
        "outputId": "2d5bfbc0-c935-4b31-dd1f-cb9ca4f716ad"
      },
      "source": [
        "model.fit(X,y)"
      ],
      "execution_count": 67,
      "outputs": [
        {
          "output_type": "stream",
          "text": [
            "X_with_bias: \n",
            "[[ 0.  0. -1.]\n",
            " [ 0.  1. -1.]\n",
            " [ 1.  0. -1.]\n",
            " [ 1.  1. -1.]]\n",
            "for epoch: 0\n",
            "predicted value: \n",
            "[0 0 0 0]\n",
            "error: \n",
            "0    0\n",
            "1    0\n",
            "2    0\n",
            "3    1\n",
            "Name: y, dtype: int64\n",
            "updated weights: \n",
            "[ 0.59991096  0.59990577 -0.59997849]\n",
            "#############\n",
            "\n",
            "for epoch: 1\n",
            "predicted value: \n",
            "[1 1 1 1]\n",
            "error: \n",
            "0   -1\n",
            "1   -1\n",
            "2   -1\n",
            "3    0\n",
            "Name: y, dtype: int64\n",
            "updated weights: \n",
            "[-8.90401451e-05 -9.42269094e-05  1.20002151e+00]\n",
            "#############\n",
            "\n",
            "for epoch: 2\n",
            "predicted value: \n",
            "[0 0 0 0]\n",
            "error: \n",
            "0    0\n",
            "1    0\n",
            "2    0\n",
            "3    1\n",
            "Name: y, dtype: int64\n",
            "updated weights: \n",
            "[0.59991096 0.59990577 0.60002151]\n",
            "#############\n",
            "\n",
            "for epoch: 3\n",
            "predicted value: \n",
            "[0 0 0 1]\n",
            "error: \n",
            "0    0\n",
            "1    0\n",
            "2    0\n",
            "3    0\n",
            "Name: y, dtype: int64\n",
            "updated weights: \n",
            "[0.59991096 0.59990577 0.60002151]\n",
            "#############\n",
            "\n",
            "for epoch: 4\n",
            "predicted value: \n",
            "[0 0 0 1]\n",
            "error: \n",
            "0    0\n",
            "1    0\n",
            "2    0\n",
            "3    0\n",
            "Name: y, dtype: int64\n",
            "updated weights: \n",
            "[0.59991096 0.59990577 0.60002151]\n",
            "#############\n",
            "\n",
            "for epoch: 5\n",
            "predicted value: \n",
            "[0 0 0 1]\n",
            "error: \n",
            "0    0\n",
            "1    0\n",
            "2    0\n",
            "3    0\n",
            "Name: y, dtype: int64\n",
            "updated weights: \n",
            "[0.59991096 0.59990577 0.60002151]\n",
            "#############\n",
            "\n",
            "for epoch: 6\n",
            "predicted value: \n",
            "[0 0 0 1]\n",
            "error: \n",
            "0    0\n",
            "1    0\n",
            "2    0\n",
            "3    0\n",
            "Name: y, dtype: int64\n",
            "updated weights: \n",
            "[0.59991096 0.59990577 0.60002151]\n",
            "#############\n",
            "\n",
            "for epoch: 7\n",
            "predicted value: \n",
            "[0 0 0 1]\n",
            "error: \n",
            "0    0\n",
            "1    0\n",
            "2    0\n",
            "3    0\n",
            "Name: y, dtype: int64\n",
            "updated weights: \n",
            "[0.59991096 0.59990577 0.60002151]\n",
            "#############\n",
            "\n",
            "for epoch: 8\n",
            "predicted value: \n",
            "[0 0 0 1]\n",
            "error: \n",
            "0    0\n",
            "1    0\n",
            "2    0\n",
            "3    0\n",
            "Name: y, dtype: int64\n",
            "updated weights: \n",
            "[0.59991096 0.59990577 0.60002151]\n",
            "#############\n",
            "\n",
            "for epoch: 9\n",
            "predicted value: \n",
            "[0 0 0 1]\n",
            "error: \n",
            "0    0\n",
            "1    0\n",
            "2    0\n",
            "3    0\n",
            "Name: y, dtype: int64\n",
            "updated weights: \n",
            "[0.59991096 0.59990577 0.60002151]\n",
            "#############\n",
            "\n"
          ],
          "name": "stdout"
        }
      ]
    },
    {
      "cell_type": "code",
      "metadata": {
        "id": "AVrkNNYzIL8L",
        "colab": {
          "base_uri": "https://localhost:8080/"
        },
        "outputId": "b2832894-c884-4b65-d238-46bc017d37fe"
      },
      "source": [
        "model.predict(X)"
      ],
      "execution_count": 68,
      "outputs": [
        {
          "output_type": "execute_result",
          "data": {
            "text/plain": [
              "array([0, 0, 0, 1])"
            ]
          },
          "metadata": {
            "tags": []
          },
          "execution_count": 68
        }
      ]
    },
    {
      "cell_type": "code",
      "metadata": {
        "colab": {
          "base_uri": "https://localhost:8080/",
          "height": 326
        },
        "id": "OxzJql4qbk2R",
        "outputId": "cc18807b-97c8-4f74-bd31-5d19c741159e"
      },
      "source": [
        "AND.plot(kind=\"scatter\", x=\"x1\", y=\"x2\", c=\"y\", s=50, cmap=\"winter\")\n",
        "plt.axhline(y=0, color=\"black\", linestyle=\"--\", linewidth=2)\n",
        "plt.axvline(x=0, color=\"black\", linestyle=\"--\", linewidth=2)\n",
        "\n",
        "x = np.linspace(0, 1.4) # >>> 50 \n",
        "y = 1.5 - 1*np.linspace(0, 1.4) # >>> 50 \n",
        "\n",
        "plt.plot(x, y, \"r--\")"
      ],
      "execution_count": 69,
      "outputs": [
        {
          "output_type": "execute_result",
          "data": {
            "text/plain": [
              "[<matplotlib.lines.Line2D at 0x7f0528138250>]"
            ]
          },
          "metadata": {
            "tags": []
          },
          "execution_count": 69
        },
        {
          "output_type": "display_data",
          "data": {
            "image/png": "[encoded data removed]",
            "text/plain": [
              "<Figure size 432x288 with 2 Axes>"
            ]
          },
          "metadata": {
            "tags": []
          }
        }
      ]
    },
    {
      "cell_type": "markdown",
      "metadata": {
        "id": "Q2BXaVLblOVe"
      },
      "source": [
        "#XOR\n"
      ]
    },
    {
      "cell_type": "code",
      "metadata": {
        "colab": {
          "base_uri": "https://localhost:8080/",
          "height": 166
        },
        "id": "OuDH3Curk4Zn",
        "outputId": "0ea887f0-855f-4698-b107-e55db7024235"
      },
      "source": [
        "data = {\"x1\": [0,0,1,1], \"x2\": [0,1,0,1], \"y\": [0,1,1,0]}\n",
        "XOR = pd.DataFrame(data)\n",
        "XOR"
      ],
      "execution_count": 70,
      "outputs": [
        {
          "output_type": "execute_result",
          "data": {
            "text/html": [
              "<div>\n",
              "<style scoped>\n",
              "    .dataframe tbody tr th:only-of-type {\n",
              "        vertical-align: middle;\n",
              "    }\n",
              "\n",
              "    .dataframe tbody tr th {\n",
              "        vertical-align: top;\n",
              "    }\n",
              "\n",
              "    .dataframe thead th {\n",
              "        text-align: right;\n",
              "    }\n",
              "</style>\n",
              "<table border=\"1\" class=\"dataframe\">\n",
              "  <thead>\n",
              "    <tr style=\"text-align: right;\">\n",
              "      <th></th>\n",
              "      <th>x1</th>\n",
              "      <th>x2</th>\n",
              "      <th>y</th>\n",
              "    </tr>\n",
              "  </thead>\n",
              "  <tbody>\n",
              "    <tr>\n",
              "      <th>0</th>\n",
              "      <td>0</td>\n",
              "      <td>0</td>\n",
              "      <td>0</td>\n",
              "    </tr>\n",
              "    <tr>\n",
              "      <th>1</th>\n",
              "      <td>0</td>\n",
              "      <td>1</td>\n",
              "      <td>1</td>\n",
              "    </tr>\n",
              "    <tr>\n",
              "      <th>2</th>\n",
              "      <td>1</td>\n",
              "      <td>0</td>\n",
              "      <td>1</td>\n",
              "    </tr>\n",
              "    <tr>\n",
              "      <th>3</th>\n",
              "      <td>1</td>\n",
              "      <td>1</td>\n",
              "      <td>0</td>\n",
              "    </tr>\n",
              "  </tbody>\n",
              "</table>\n",
              "</div>"
            ],
            "text/plain": [
              "   x1  x2  y\n",
              "0   0   0  0\n",
              "1   0   1  1\n",
              "2   1   0  1\n",
              "3   1   1  0"
            ]
          },
          "metadata": {
            "tags": []
          },
          "execution_count": 70
        }
      ]
    },
    {
      "cell_type": "code",
      "metadata": {
        "colab": {
          "base_uri": "https://localhost:8080/",
          "height": 166
        },
        "id": "0IHhL9jik4WZ",
        "outputId": "93cf051d-0240-44da-987a-914713219fa5"
      },
      "source": [
        "X = XOR.drop(\"y\", axis=1) # axis = 1 >>> dropping accross column\n",
        "X"
      ],
      "execution_count": 71,
      "outputs": [
        {
          "output_type": "execute_result",
          "data": {
            "text/html": [
              "<div>\n",
              "<style scoped>\n",
              "    .dataframe tbody tr th:only-of-type {\n",
              "        vertical-align: middle;\n",
              "    }\n",
              "\n",
              "    .dataframe tbody tr th {\n",
              "        vertical-align: top;\n",
              "    }\n",
              "\n",
              "    .dataframe thead th {\n",
              "        text-align: right;\n",
              "    }\n",
              "</style>\n",
              "<table border=\"1\" class=\"dataframe\">\n",
              "  <thead>\n",
              "    <tr style=\"text-align: right;\">\n",
              "      <th></th>\n",
              "      <th>x1</th>\n",
              "      <th>x2</th>\n",
              "    </tr>\n",
              "  </thead>\n",
              "  <tbody>\n",
              "    <tr>\n",
              "      <th>0</th>\n",
              "      <td>0</td>\n",
              "      <td>0</td>\n",
              "    </tr>\n",
              "    <tr>\n",
              "      <th>1</th>\n",
              "      <td>0</td>\n",
              "      <td>1</td>\n",
              "    </tr>\n",
              "    <tr>\n",
              "      <th>2</th>\n",
              "      <td>1</td>\n",
              "      <td>0</td>\n",
              "    </tr>\n",
              "    <tr>\n",
              "      <th>3</th>\n",
              "      <td>1</td>\n",
              "      <td>1</td>\n",
              "    </tr>\n",
              "  </tbody>\n",
              "</table>\n",
              "</div>"
            ],
            "text/plain": [
              "   x1  x2\n",
              "0   0   0\n",
              "1   0   1\n",
              "2   1   0\n",
              "3   1   1"
            ]
          },
          "metadata": {
            "tags": []
          },
          "execution_count": 71
        }
      ]
    },
    {
      "cell_type": "code",
      "metadata": {
        "colab": {
          "base_uri": "https://localhost:8080/",
          "height": 166
        },
        "id": "yLo7wSgLk4TJ",
        "outputId": "85750a83-d846-4569-8538-da769e456d7d"
      },
      "source": [
        "y = XOR['y']\n",
        "y.to_frame()"
      ],
      "execution_count": 72,
      "outputs": [
        {
          "output_type": "execute_result",
          "data": {
            "text/html": [
              "<div>\n",
              "<style scoped>\n",
              "    .dataframe tbody tr th:only-of-type {\n",
              "        vertical-align: middle;\n",
              "    }\n",
              "\n",
              "    .dataframe tbody tr th {\n",
              "        vertical-align: top;\n",
              "    }\n",
              "\n",
              "    .dataframe thead th {\n",
              "        text-align: right;\n",
              "    }\n",
              "</style>\n",
              "<table border=\"1\" class=\"dataframe\">\n",
              "  <thead>\n",
              "    <tr style=\"text-align: right;\">\n",
              "      <th></th>\n",
              "      <th>y</th>\n",
              "    </tr>\n",
              "  </thead>\n",
              "  <tbody>\n",
              "    <tr>\n",
              "      <th>0</th>\n",
              "      <td>0</td>\n",
              "    </tr>\n",
              "    <tr>\n",
              "      <th>1</th>\n",
              "      <td>1</td>\n",
              "    </tr>\n",
              "    <tr>\n",
              "      <th>2</th>\n",
              "      <td>1</td>\n",
              "    </tr>\n",
              "    <tr>\n",
              "      <th>3</th>\n",
              "      <td>0</td>\n",
              "    </tr>\n",
              "  </tbody>\n",
              "</table>\n",
              "</div>"
            ],
            "text/plain": [
              "   y\n",
              "0  0\n",
              "1  1\n",
              "2  1\n",
              "3  0"
            ]
          },
          "metadata": {
            "tags": []
          },
          "execution_count": 72
        }
      ]
    },
    {
      "cell_type": "code",
      "metadata": {
        "colab": {
          "base_uri": "https://localhost:8080/"
        },
        "id": "_l_tUAook4QK",
        "outputId": "e8bccfd8-7d07-4a63-ed70-765695be305b"
      },
      "source": [
        "model = Perceptron(eta = 0.5, epochs=50, activationFunction=activationFunction)"
      ],
      "execution_count": 73,
      "outputs": [
        {
          "output_type": "stream",
          "text": [
            "self.weights: [-1.33316800e-05  6.08300562e-05  1.18211550e-04]\n"
          ],
          "name": "stdout"
        }
      ]
    },
    {
      "cell_type": "code",
      "metadata": {
        "colab": {
          "base_uri": "https://localhost:8080/"
        },
        "id": "cF7Kc5Ktk4NS",
        "outputId": "8d2699f1-23e0-4fe3-d3d0-56e524e28c32"
      },
      "source": [
        "model.fit(X,y)"
      ],
      "execution_count": 74,
      "outputs": [
        {
          "output_type": "stream",
          "text": [
            "X_with_bias: \n",
            "[[ 0.  0. -1.]\n",
            " [ 0.  1. -1.]\n",
            " [ 1.  0. -1.]\n",
            " [ 1.  1. -1.]]\n",
            "for epoch: 0\n",
            "predicted value: \n",
            "[0 0 0 0]\n",
            "error: \n",
            "0    0\n",
            "1    1\n",
            "2    1\n",
            "3    0\n",
            "Name: y, dtype: int64\n",
            "updated weights: \n",
            "[ 0.49998667  0.50006083 -0.99988179]\n",
            "#############\n",
            "\n",
            "for epoch: 1\n",
            "predicted value: \n",
            "[1 1 1 1]\n",
            "error: \n",
            "0   -1\n",
            "1    0\n",
            "2    0\n",
            "3   -1\n",
            "Name: y, dtype: int64\n",
            "updated weights: \n",
            "[-1.33316800e-05  6.08300562e-05  1.18211550e-04]\n",
            "#############\n",
            "\n",
            "for epoch: 2\n",
            "predicted value: \n",
            "[0 0 0 0]\n",
            "error: \n",
            "0    0\n",
            "1    1\n",
            "2    1\n",
            "3    0\n",
            "Name: y, dtype: int64\n",
            "updated weights: \n",
            "[ 0.49998667  0.50006083 -0.99988179]\n",
            "#############\n",
            "\n",
            "for epoch: 3\n",
            "predicted value: \n",
            "[1 1 1 1]\n",
            "error: \n",
            "0   -1\n",
            "1    0\n",
            "2    0\n",
            "3   -1\n",
            "Name: y, dtype: int64\n",
            "updated weights: \n",
            "[-1.33316800e-05  6.08300562e-05  1.18211550e-04]\n",
            "#############\n",
            "\n",
            "for epoch: 4\n",
            "predicted value: \n",
            "[0 0 0 0]\n",
            "error: \n",
            "0    0\n",
            "1    1\n",
            "2    1\n",
            "3    0\n",
            "Name: y, dtype: int64\n",
            "updated weights: \n",
            "[ 0.49998667  0.50006083 -0.99988179]\n",
            "#############\n",
            "\n",
            "for epoch: 5\n",
            "predicted value: \n",
            "[1 1 1 1]\n",
            "error: \n",
            "0   -1\n",
            "1    0\n",
            "2    0\n",
            "3   -1\n",
            "Name: y, dtype: int64\n",
            "updated weights: \n",
            "[-1.33316800e-05  6.08300562e-05  1.18211550e-04]\n",
            "#############\n",
            "\n",
            "for epoch: 6\n",
            "predicted value: \n",
            "[0 0 0 0]\n",
            "error: \n",
            "0    0\n",
            "1    1\n",
            "2    1\n",
            "3    0\n",
            "Name: y, dtype: int64\n",
            "updated weights: \n",
            "[ 0.49998667  0.50006083 -0.99988179]\n",
            "#############\n",
            "\n",
            "for epoch: 7\n",
            "predicted value: \n",
            "[1 1 1 1]\n",
            "error: \n",
            "0   -1\n",
            "1    0\n",
            "2    0\n",
            "3   -1\n",
            "Name: y, dtype: int64\n",
            "updated weights: \n",
            "[-1.33316800e-05  6.08300562e-05  1.18211550e-04]\n",
            "#############\n",
            "\n",
            "for epoch: 8\n",
            "predicted value: \n",
            "[0 0 0 0]\n",
            "error: \n",
            "0    0\n",
            "1    1\n",
            "2    1\n",
            "3    0\n",
            "Name: y, dtype: int64\n",
            "updated weights: \n",
            "[ 0.49998667  0.50006083 -0.99988179]\n",
            "#############\n",
            "\n",
            "for epoch: 9\n",
            "predicted value: \n",
            "[1 1 1 1]\n",
            "error: \n",
            "0   -1\n",
            "1    0\n",
            "2    0\n",
            "3   -1\n",
            "Name: y, dtype: int64\n",
            "updated weights: \n",
            "[-1.33316800e-05  6.08300562e-05  1.18211550e-04]\n",
            "#############\n",
            "\n",
            "for epoch: 10\n",
            "predicted value: \n",
            "[0 0 0 0]\n",
            "error: \n",
            "0    0\n",
            "1    1\n",
            "2    1\n",
            "3    0\n",
            "Name: y, dtype: int64\n",
            "updated weights: \n",
            "[ 0.49998667  0.50006083 -0.99988179]\n",
            "#############\n",
            "\n",
            "for epoch: 11\n",
            "predicted value: \n",
            "[1 1 1 1]\n",
            "error: \n",
            "0   -1\n",
            "1    0\n",
            "2    0\n",
            "3   -1\n",
            "Name: y, dtype: int64\n",
            "updated weights: \n",
            "[-1.33316800e-05  6.08300562e-05  1.18211550e-04]\n",
            "#############\n",
            "\n",
            "for epoch: 12\n",
            "predicted value: \n",
            "[0 0 0 0]\n",
            "error: \n",
            "0    0\n",
            "1    1\n",
            "2    1\n",
            "3    0\n",
            "Name: y, dtype: int64\n",
            "updated weights: \n",
            "[ 0.49998667  0.50006083 -0.99988179]\n",
            "#############\n",
            "\n",
            "for epoch: 13\n",
            "predicted value: \n",
            "[1 1 1 1]\n",
            "error: \n",
            "0   -1\n",
            "1    0\n",
            "2    0\n",
            "3   -1\n",
            "Name: y, dtype: int64\n",
            "updated weights: \n",
            "[-1.33316800e-05  6.08300562e-05  1.18211550e-04]\n",
            "#############\n",
            "\n",
            "for epoch: 14\n",
            "predicted value: \n",
            "[0 0 0 0]\n",
            "error: \n",
            "0    0\n",
            "1    1\n",
            "2    1\n",
            "3    0\n",
            "Name: y, dtype: int64\n",
            "updated weights: \n",
            "[ 0.49998667  0.50006083 -0.99988179]\n",
            "#############\n",
            "\n",
            "for epoch: 15\n",
            "predicted value: \n",
            "[1 1 1 1]\n",
            "error: \n",
            "0   -1\n",
            "1    0\n",
            "2    0\n",
            "3   -1\n",
            "Name: y, dtype: int64\n",
            "updated weights: \n",
            "[-1.33316800e-05  6.08300562e-05  1.18211550e-04]\n",
            "#############\n",
            "\n",
            "for epoch: 16\n",
            "predicted value: \n",
            "[0 0 0 0]\n",
            "error: \n",
            "0    0\n",
            "1    1\n",
            "2    1\n",
            "3    0\n",
            "Name: y, dtype: int64\n",
            "updated weights: \n",
            "[ 0.49998667  0.50006083 -0.99988179]\n",
            "#############\n",
            "\n",
            "for epoch: 17\n",
            "predicted value: \n",
            "[1 1 1 1]\n",
            "error: \n",
            "0   -1\n",
            "1    0\n",
            "2    0\n",
            "3   -1\n",
            "Name: y, dtype: int64\n",
            "updated weights: \n",
            "[-1.33316800e-05  6.08300562e-05  1.18211550e-04]\n",
            "#############\n",
            "\n",
            "for epoch: 18\n",
            "predicted value: \n",
            "[0 0 0 0]\n",
            "error: \n",
            "0    0\n",
            "1    1\n",
            "2    1\n",
            "3    0\n",
            "Name: y, dtype: int64\n",
            "updated weights: \n",
            "[ 0.49998667  0.50006083 -0.99988179]\n",
            "#############\n",
            "\n",
            "for epoch: 19\n",
            "predicted value: \n",
            "[1 1 1 1]\n",
            "error: \n",
            "0   -1\n",
            "1    0\n",
            "2    0\n",
            "3   -1\n",
            "Name: y, dtype: int64\n",
            "updated weights: \n",
            "[-1.33316800e-05  6.08300562e-05  1.18211550e-04]\n",
            "#############\n",
            "\n",
            "for epoch: 20\n",
            "predicted value: \n",
            "[0 0 0 0]\n",
            "error: \n",
            "0    0\n",
            "1    1\n",
            "2    1\n",
            "3    0\n",
            "Name: y, dtype: int64\n",
            "updated weights: \n",
            "[ 0.49998667  0.50006083 -0.99988179]\n",
            "#############\n",
            "\n",
            "for epoch: 21\n",
            "predicted value: \n",
            "[1 1 1 1]\n",
            "error: \n",
            "0   -1\n",
            "1    0\n",
            "2    0\n",
            "3   -1\n",
            "Name: y, dtype: int64\n",
            "updated weights: \n",
            "[-1.33316800e-05  6.08300562e-05  1.18211550e-04]\n",
            "#############\n",
            "\n",
            "for epoch: 22\n",
            "predicted value: \n",
            "[0 0 0 0]\n",
            "error: \n",
            "0    0\n",
            "1    1\n",
            "2    1\n",
            "3    0\n",
            "Name: y, dtype: int64\n",
            "updated weights: \n",
            "[ 0.49998667  0.50006083 -0.99988179]\n",
            "#############\n",
            "\n",
            "for epoch: 23\n",
            "predicted value: \n",
            "[1 1 1 1]\n",
            "error: \n",
            "0   -1\n",
            "1    0\n",
            "2    0\n",
            "3   -1\n",
            "Name: y, dtype: int64\n",
            "updated weights: \n",
            "[-1.33316800e-05  6.08300562e-05  1.18211550e-04]\n",
            "#############\n",
            "\n",
            "for epoch: 24\n",
            "predicted value: \n",
            "[0 0 0 0]\n",
            "error: \n",
            "0    0\n",
            "1    1\n",
            "2    1\n",
            "3    0\n",
            "Name: y, dtype: int64\n",
            "updated weights: \n",
            "[ 0.49998667  0.50006083 -0.99988179]\n",
            "#############\n",
            "\n",
            "for epoch: 25\n",
            "predicted value: \n",
            "[1 1 1 1]\n",
            "error: \n",
            "0   -1\n",
            "1    0\n",
            "2    0\n",
            "3   -1\n",
            "Name: y, dtype: int64\n",
            "updated weights: \n",
            "[-1.33316800e-05  6.08300562e-05  1.18211550e-04]\n",
            "#############\n",
            "\n",
            "for epoch: 26\n",
            "predicted value: \n",
            "[0 0 0 0]\n",
            "error: \n",
            "0    0\n",
            "1    1\n",
            "2    1\n",
            "3    0\n",
            "Name: y, dtype: int64\n",
            "updated weights: \n",
            "[ 0.49998667  0.50006083 -0.99988179]\n",
            "#############\n",
            "\n",
            "for epoch: 27\n",
            "predicted value: \n",
            "[1 1 1 1]\n",
            "error: \n",
            "0   -1\n",
            "1    0\n",
            "2    0\n",
            "3   -1\n",
            "Name: y, dtype: int64\n",
            "updated weights: \n",
            "[-1.33316800e-05  6.08300562e-05  1.18211550e-04]\n",
            "#############\n",
            "\n",
            "for epoch: 28\n",
            "predicted value: \n",
            "[0 0 0 0]\n",
            "error: \n",
            "0    0\n",
            "1    1\n",
            "2    1\n",
            "3    0\n",
            "Name: y, dtype: int64\n",
            "updated weights: \n",
            "[ 0.49998667  0.50006083 -0.99988179]\n",
            "#############\n",
            "\n",
            "for epoch: 29\n",
            "predicted value: \n",
            "[1 1 1 1]\n",
            "error: \n",
            "0   -1\n",
            "1    0\n",
            "2    0\n",
            "3   -1\n",
            "Name: y, dtype: int64\n",
            "updated weights: \n",
            "[-1.33316800e-05  6.08300562e-05  1.18211550e-04]\n",
            "#############\n",
            "\n",
            "for epoch: 30\n",
            "predicted value: \n",
            "[0 0 0 0]\n",
            "error: \n",
            "0    0\n",
            "1    1\n",
            "2    1\n",
            "3    0\n",
            "Name: y, dtype: int64\n",
            "updated weights: \n",
            "[ 0.49998667  0.50006083 -0.99988179]\n",
            "#############\n",
            "\n",
            "for epoch: 31\n",
            "predicted value: \n",
            "[1 1 1 1]\n",
            "error: \n",
            "0   -1\n",
            "1    0\n",
            "2    0\n",
            "3   -1\n",
            "Name: y, dtype: int64\n",
            "updated weights: \n",
            "[-1.33316800e-05  6.08300562e-05  1.18211550e-04]\n",
            "#############\n",
            "\n",
            "for epoch: 32\n",
            "predicted value: \n",
            "[0 0 0 0]\n",
            "error: \n",
            "0    0\n",
            "1    1\n",
            "2    1\n",
            "3    0\n",
            "Name: y, dtype: int64\n",
            "updated weights: \n",
            "[ 0.49998667  0.50006083 -0.99988179]\n",
            "#############\n",
            "\n",
            "for epoch: 33\n",
            "predicted value: \n",
            "[1 1 1 1]\n",
            "error: \n",
            "0   -1\n",
            "1    0\n",
            "2    0\n",
            "3   -1\n",
            "Name: y, dtype: int64\n",
            "updated weights: \n",
            "[-1.33316800e-05  6.08300562e-05  1.18211550e-04]\n",
            "#############\n",
            "\n",
            "for epoch: 34\n",
            "predicted value: \n",
            "[0 0 0 0]\n",
            "error: \n",
            "0    0\n",
            "1    1\n",
            "2    1\n",
            "3    0\n",
            "Name: y, dtype: int64\n",
            "updated weights: \n",
            "[ 0.49998667  0.50006083 -0.99988179]\n",
            "#############\n",
            "\n",
            "for epoch: 35\n",
            "predicted value: \n",
            "[1 1 1 1]\n",
            "error: \n",
            "0   -1\n",
            "1    0\n",
            "2    0\n",
            "3   -1\n",
            "Name: y, dtype: int64\n",
            "updated weights: \n",
            "[-1.33316800e-05  6.08300562e-05  1.18211550e-04]\n",
            "#############\n",
            "\n",
            "for epoch: 36\n",
            "predicted value: \n",
            "[0 0 0 0]\n",
            "error: \n",
            "0    0\n",
            "1    1\n",
            "2    1\n",
            "3    0\n",
            "Name: y, dtype: int64\n",
            "updated weights: \n",
            "[ 0.49998667  0.50006083 -0.99988179]\n",
            "#############\n",
            "\n",
            "for epoch: 37\n",
            "predicted value: \n",
            "[1 1 1 1]\n",
            "error: \n",
            "0   -1\n",
            "1    0\n",
            "2    0\n",
            "3   -1\n",
            "Name: y, dtype: int64\n",
            "updated weights: \n",
            "[-1.33316800e-05  6.08300562e-05  1.18211550e-04]\n",
            "#############\n",
            "\n",
            "for epoch: 38\n",
            "predicted value: \n",
            "[0 0 0 0]\n",
            "error: \n",
            "0    0\n",
            "1    1\n",
            "2    1\n",
            "3    0\n",
            "Name: y, dtype: int64\n",
            "updated weights: \n",
            "[ 0.49998667  0.50006083 -0.99988179]\n",
            "#############\n",
            "\n",
            "for epoch: 39\n",
            "predicted value: \n",
            "[1 1 1 1]\n",
            "error: \n",
            "0   -1\n",
            "1    0\n",
            "2    0\n",
            "3   -1\n",
            "Name: y, dtype: int64\n",
            "updated weights: \n",
            "[-1.33316800e-05  6.08300562e-05  1.18211550e-04]\n",
            "#############\n",
            "\n",
            "for epoch: 40\n",
            "predicted value: \n",
            "[0 0 0 0]\n",
            "error: \n",
            "0    0\n",
            "1    1\n",
            "2    1\n",
            "3    0\n",
            "Name: y, dtype: int64\n",
            "updated weights: \n",
            "[ 0.49998667  0.50006083 -0.99988179]\n",
            "#############\n",
            "\n",
            "for epoch: 41\n",
            "predicted value: \n",
            "[1 1 1 1]\n",
            "error: \n",
            "0   -1\n",
            "1    0\n",
            "2    0\n",
            "3   -1\n",
            "Name: y, dtype: int64\n",
            "updated weights: \n",
            "[-1.33316800e-05  6.08300562e-05  1.18211550e-04]\n",
            "#############\n",
            "\n",
            "for epoch: 42\n",
            "predicted value: \n",
            "[0 0 0 0]\n",
            "error: \n",
            "0    0\n",
            "1    1\n",
            "2    1\n",
            "3    0\n",
            "Name: y, dtype: int64\n",
            "updated weights: \n",
            "[ 0.49998667  0.50006083 -0.99988179]\n",
            "#############\n",
            "\n",
            "for epoch: 43\n",
            "predicted value: \n",
            "[1 1 1 1]\n",
            "error: \n",
            "0   -1\n",
            "1    0\n",
            "2    0\n",
            "3   -1\n",
            "Name: y, dtype: int64\n",
            "updated weights: \n",
            "[-1.33316800e-05  6.08300562e-05  1.18211550e-04]\n",
            "#############\n",
            "\n",
            "for epoch: 44\n",
            "predicted value: \n",
            "[0 0 0 0]\n",
            "error: \n",
            "0    0\n",
            "1    1\n",
            "2    1\n",
            "3    0\n",
            "Name: y, dtype: int64\n",
            "updated weights: \n",
            "[ 0.49998667  0.50006083 -0.99988179]\n",
            "#############\n",
            "\n",
            "for epoch: 45\n",
            "predicted value: \n",
            "[1 1 1 1]\n",
            "error: \n",
            "0   -1\n",
            "1    0\n",
            "2    0\n",
            "3   -1\n",
            "Name: y, dtype: int64\n",
            "updated weights: \n",
            "[-1.33316800e-05  6.08300562e-05  1.18211550e-04]\n",
            "#############\n",
            "\n",
            "for epoch: 46\n",
            "predicted value: \n",
            "[0 0 0 0]\n",
            "error: \n",
            "0    0\n",
            "1    1\n",
            "2    1\n",
            "3    0\n",
            "Name: y, dtype: int64\n",
            "updated weights: \n",
            "[ 0.49998667  0.50006083 -0.99988179]\n",
            "#############\n",
            "\n",
            "for epoch: 47\n",
            "predicted value: \n",
            "[1 1 1 1]\n",
            "error: \n",
            "0   -1\n",
            "1    0\n",
            "2    0\n",
            "3   -1\n",
            "Name: y, dtype: int64\n",
            "updated weights: \n",
            "[-1.33316800e-05  6.08300562e-05  1.18211550e-04]\n",
            "#############\n",
            "\n",
            "for epoch: 48\n",
            "predicted value: \n",
            "[0 0 0 0]\n",
            "error: \n",
            "0    0\n",
            "1    1\n",
            "2    1\n",
            "3    0\n",
            "Name: y, dtype: int64\n",
            "updated weights: \n",
            "[ 0.49998667  0.50006083 -0.99988179]\n",
            "#############\n",
            "\n",
            "for epoch: 49\n",
            "predicted value: \n",
            "[1 1 1 1]\n",
            "error: \n",
            "0   -1\n",
            "1    0\n",
            "2    0\n",
            "3   -1\n",
            "Name: y, dtype: int64\n",
            "updated weights: \n",
            "[-1.33316800e-05  6.08300562e-05  1.18211550e-04]\n",
            "#############\n",
            "\n"
          ],
          "name": "stdout"
        }
      ]
    },
    {
      "cell_type": "code",
      "metadata": {
        "colab": {
          "base_uri": "https://localhost:8080/"
        },
        "id": "ZpmS3JR1k4KW",
        "outputId": "af96a275-5515-429b-ffbb-52bcc7d3f4a9"
      },
      "source": [
        "model.predict(X)"
      ],
      "execution_count": 75,
      "outputs": [
        {
          "output_type": "execute_result",
          "data": {
            "text/plain": [
              "array([0, 0, 0, 0])"
            ]
          },
          "metadata": {
            "tags": []
          },
          "execution_count": 75
        }
      ]
    },
    {
      "cell_type": "code",
      "metadata": {
        "colab": {
          "base_uri": "https://localhost:8080/",
          "height": 326
        },
        "id": "9WCO0w9Rk4Hd",
        "outputId": "8475b38b-e2c2-4555-f256-0b5dc5ce0ce2"
      },
      "source": [
        "XOR.plot(kind=\"scatter\", x=\"x1\", y=\"x2\", c=\"y\", s=500, cmap=\"winter\")"
      ],
      "execution_count": 76,
      "outputs": [
        {
          "output_type": "execute_result",
          "data": {
            "text/plain": [
              "<matplotlib.axes._subplots.AxesSubplot at 0x7f0528106090>"
            ]
          },
          "metadata": {
            "tags": []
          },
          "execution_count": 76
        },
        {
          "output_type": "display_data",
          "data": {
            "image/png": "[encoded data removed]",
            "text/plain": [
              "<Figure size 432x288 with 2 Axes>"
            ]
          },
          "metadata": {
            "tags": []
          }
        }
      ]
    }
  ]
}